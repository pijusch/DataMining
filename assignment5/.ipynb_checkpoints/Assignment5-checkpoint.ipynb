{
 "cells": [
  {
   "cell_type": "markdown",
   "metadata": {},
   "source": [
    "# Assingment 5\n",
    "\n",
    "**Piyush Chawla**"
   ]
  },
  {
   "cell_type": "markdown",
   "metadata": {},
   "source": [
    "## TwoDimHard\n",
    "\n",
    "This section analyses the **TwoDimHard** dataset. The dataset contains the ground truth values (labels) so the analysis becomes easier than 'strict' unsupervised clustering."
   ]
  },
  {
   "cell_type": "code",
   "execution_count": 29,
   "metadata": {},
   "outputs": [],
   "source": [
    "import pandas as pd\n",
    "from matplotlib import pyplot as plt\n",
    "import numpy as np\n",
    "import random\n",
    "from scipy.spatial.distance import euclidean\n",
    "from sklearn.cluster import DBSCAN, KMeans, AgglomerativeClustering\n",
    "from sklearn.metrics import homogeneity_score, v_measure_score, completeness_score\n",
    "from sklearn.metrics import silhouette_score\n",
    "data = pd.read_csv('TwoDimHard.csv')"
   ]
  },
  {
   "cell_type": "markdown",
   "metadata": {},
   "source": [
    "The functions below are the python implementation of k-means algorithm. **kmeans()** take the dataset and cluster number as the input and returns the cluster labels and final means obtained upon the full execution of k-means algorithm. **itr()** is an untility function which computes one iteration of the k-means (i.e. new means and new cluster labels). It can be seen that there is an infinit loop in the kmeans algorithm. The stopping criterion is same label assingment in two consecutive iterations. Other alternative could be same means, which essentially is the exact same condition."
   ]
  },
  {
   "cell_type": "code",
   "execution_count": 6,
   "metadata": {},
   "outputs": [],
   "source": [
    "def itr(data,means,k):\n",
    "    clss = []\n",
    "    for i in range(len(data)):\n",
    "        clss.append(-1)\n",
    "        temp = 10000\n",
    "        for j in range(len(means)):\n",
    "            if euclidean(data[i],means[j]) < temp:\n",
    "                temp = euclidean(data[i],means[j])\n",
    "                clss[i] = j+1\n",
    "    means = np.zeros((k,data.shape[1]))\n",
    "    counts = [0]*k\n",
    "    for i in range(len(clss)):\n",
    "        means[clss[i]-1] = np.add(means[clss[i]-1],data[i])\n",
    "        counts[clss[i]-1]+=1\n",
    "    for i in range(k):\n",
    "        means[i] = means[i]/counts[i]\n",
    "    return clss,means\n",
    "\n",
    "def kmeans(data,k):\n",
    "    indx = random.sample(range(len(data)),k)\n",
    "    means = []\n",
    "    clss = [-1]*len(data)\n",
    "    for i in indx:\n",
    "        means.append(data[i])\n",
    "    means = np.array(means)\n",
    "    \n",
    "    while True:\n",
    "        _clss,_means = itr(data,means,k)\n",
    "        if clss==_clss:\n",
    "            break\n",
    "        clss = _clss\n",
    "        means = _means\n",
    "        \n",
    "    return clss,means"
   ]
  },
  {
   "cell_type": "markdown",
   "metadata": {},
   "source": [
    "The function **colors()** below plots clusters in 'TwoDimHard' dataset. It can be noticed that this function has been hard coded to handle only two dimensions. So will skip its use in the later part of the assignment."
   ]
  },
  {
   "cell_type": "code",
   "execution_count": 7,
   "metadata": {},
   "outputs": [],
   "source": [
    "colors = ['red','blue','green','yellow','orange']\n",
    "def plot(data,clss,k):\n",
    "    _plot = []\n",
    "    for i in range(k+1):\n",
    "        _plot.append([])\n",
    "    for i in range(len(data)):\n",
    "        _plot[clss[i]].append(data[i])\n",
    "    for i in range(0,k+1):\n",
    "        if len(_plot[i])==0:\n",
    "            continue\n",
    "        _plot[i] = np.array(_plot[i])\n",
    "        plt.scatter(_plot[i][:,0],_plot[i][:,1],c = colors[i])\n",
    "    plt.show()\n",
    "    "
   ]
  },
  {
   "cell_type": "markdown",
   "metadata": {},
   "source": [
    "The function **CohSep()** computes sum of the cohession and seperation metrics for the computed clusters."
   ]
  },
  {
   "cell_type": "code",
   "execution_count": 25,
   "metadata": {},
   "outputs": [],
   "source": [
    "def CohSep(data,clss,k):\n",
    "    div = []\n",
    "    for i in range(k):\n",
    "        div.append([])\n",
    "    for i in range(len(clss)):\n",
    "        div[clss[i]].append(data[i])\n",
    "    means = []\n",
    "    for i in range(k):\n",
    "        means.append( np.mean(np.array(div[i]),axis=0))\n",
    "    \n",
    "    sse = 0\n",
    "    ssb = 0\n",
    "    center = np.mean(np.array(means),axis=0)\n",
    "    for i in range(k):\n",
    "        temp = 0\n",
    "        for j in div[i]:\n",
    "            temp+=euclidean(means[i],j)**2\n",
    "        sse+=temp\n",
    "        ssb+=len(div[i])*euclidean(center,means[i])**2\n",
    "    print('SSE',sse)\n",
    "    print('SSB',ssb)\n",
    "    print('Total (SSE+SSB)',sse+ssb)"
   ]
  },
  {
   "cell_type": "code",
   "execution_count": null,
   "metadata": {},
   "outputs": [],
   "source": []
  },
  {
   "cell_type": "markdown",
   "metadata": {},
   "source": [
    "**test()** is"
   ]
  },
  {
   "cell_type": "code",
   "execution_count": 9,
   "metadata": {},
   "outputs": [],
   "source": [
    "def _test(pred,true):\n",
    "    labs = list(set(pred))\n",
    "    out = np.zeros((len(labs),len(labs)))\n",
    "    for i in range(len(pred)):\n",
    "        out[pred[i]-1][true[i]-1]+=1\n",
    "    return out"
   ]
  },
  {
   "cell_type": "markdown",
   "metadata": {},
   "source": []
  },
  {
   "cell_type": "code",
   "execution_count": 13,
   "metadata": {
    "scrolled": false
   },
   "outputs": [
    {
     "data": {
      "image/png": "[encoded data removed]",
      "text/plain": [
       "<Figure size 432x288 with 1 Axes>"
      ]
     },
     "metadata": {},
     "output_type": "display_data"
    },
    {
     "data": {
      "image/png": "[encoded data removed]",
      "text/plain": [
       "<Figure size 432x288 with 1 Axes>"
      ]
     },
     "metadata": {},
     "output_type": "display_data"
    }
   ],
   "source": [
    "clss, means = kmeans(np.array(data[['X.1','X.2']]),4)\n",
    "plot(np.array(data[['X.1','X.2']]),np.array(data['cluster']),4)\n",
    "plot(np.array(data[['X.1','X.2']]),clss,4)"
   ]
  },
  {
   "cell_type": "markdown",
   "metadata": {},
   "source": []
  },
  {
   "cell_type": "code",
   "execution_count": 28,
   "metadata": {},
   "outputs": [
    {
     "name": "stdout",
     "output_type": "stream",
     "text": [
      "SSE 4.892102869557148\n",
      "SSB 24.460520773702964\n",
      "Total (SSE+SSB) 29.35262364326011\n"
     ]
    }
   ],
   "source": [
    "CohSep(np.array(data[['X.1','X.2']]),np.array(clss)-1,4)\n",
    "print(silhouette_score(data[['X.1','X.2']], clss, metric='euclidean'))"
   ]
  },
  {
   "cell_type": "markdown",
   "metadata": {},
   "source": []
  },
  {
   "cell_type": "code",
   "execution_count": 32,
   "metadata": {},
   "outputs": [
    {
     "name": "stdout",
     "output_type": "stream",
     "text": [
      "SSE 5.5562155181714\n",
      "SSB 23.863790948578302\n",
      "Total (SSE+SSB) 29.4200064667497\n",
      "0.5131434546491092\n"
     ]
    }
   ],
   "source": [
    "CohSep(np.array(data[['X.1','X.2']]),data['cluster']-1,4)\n",
    "print(silhouette_score(data[['X.1','X.2']], data['cluster'], metric='euclidean'))"
   ]
  },
  {
   "cell_type": "markdown",
   "metadata": {},
   "source": []
  },
  {
   "cell_type": "code",
   "execution_count": 7,
   "metadata": {
    "scrolled": true
   },
   "outputs": [
    {
     "name": "stdout",
     "output_type": "stream",
     "text": [
      "[[  0.   0.   3. 104.]\n",
      " [  0.   0.  88.   2.]\n",
      " [ 89.   2.   4.   0.]\n",
      " [  0.  98.   2.   8.]]\n",
      "\n",
      "accuracy = 0.9498742991499367\n",
      "0.8412193595780314\n",
      "0.8405881115808966\n"
     ]
    }
   ],
   "source": [
    "mat = _test(clss,list(data['cluster']))\n",
    "print(mat)\n",
    "print()\n",
    "print('accuracy =',np.mean(np.max(mat,axis=0)/np.sum(mat,axis=0)))\n",
    "print(homogeneity_score(list(data['cluster']),clss))\n",
    "print(homogeneity_score(clss,list(data['cluster'])))"
   ]
  },
  {
   "cell_type": "markdown",
   "metadata": {},
   "source": []
  },
  {
   "cell_type": "code",
   "execution_count": 34,
   "metadata": {},
   "outputs": [],
   "source": [
    "from sklearn.preprocessing import normalize\n",
    "wine = pd.read_csv('winequality-red.csv',sep=';')\n",
    "wine.iloc[0]\n",
    "tmp = []\n",
    "\n",
    "for i in range(len(wine)):\n",
    "    if wine['quality'].iloc[i]<= 5:\n",
    "        tmp.append(0)\n",
    "    else:\n",
    "        tmp.append(1)\n",
    "wine['quality'] = tmp\n",
    "\n",
    "for i in list(wine.keys()):\n",
    "    if i == 'quality':\n",
    "        continue\n",
    "    else:\n",
    "        wine[i] = normalize(np.array(wine[i]).reshape(1, -1))[0]"
   ]
  },
  {
   "cell_type": "code",
   "execution_count": 38,
   "metadata": {},
   "outputs": [
    {
     "name": "stdout",
     "output_type": "stream",
     "text": [
      "SSE 1.6102962858218661\n",
      "SSB 0.046597875607361276\n",
      "Total (SSE+SSB) 1.6568941614292274\n",
      "0.037661006051162654\n"
     ]
    }
   ],
   "source": [
    "CohSep(np.array(wine)[:,:-1],wine['quality'],2)\n",
    "print(silhouette_score(np.array(wine)[:,:-1], wine['quality'], metric='euclidean'))"
   ]
  },
  {
   "cell_type": "markdown",
   "metadata": {},
   "source": []
  },
  {
   "cell_type": "code",
   "execution_count": 35,
   "metadata": {},
   "outputs": [],
   "source": [
    "clustering = DBSCAN(min_samples=5).fit(np.array(wine)[:,:-1])\n",
    "kmeans = KMeans(n_clusters=2, random_state=0).fit(np.array(wine)[:,:-1])\n",
    "clustering = AgglomerativeClustering().fit(np.array(wine)[:,:-1])\n",
    "#np.sum(clustering.labels_)"
   ]
  },
  {
   "cell_type": "code",
   "execution_count": 37,
   "metadata": {},
   "outputs": [
    {
     "name": "stdout",
     "output_type": "stream",
     "text": [
      "SSE 1.2849267650885383\n",
      "SSB 0.41551799326142413\n",
      "Total (SSE+SSB) 1.7004447583499624\n",
      "0.2660740880763293\n"
     ]
    }
   ],
   "source": [
    "CohSep(np.array(wine)[:,:-1],kmeans.labels_,2)\n",
    "print(silhouette_score(np.array(wine)[:,:-1], kmeans.labels_, metric='euclidean'))"
   ]
  },
  {
   "cell_type": "code",
   "execution_count": 10,
   "metadata": {},
   "outputs": [
    {
     "name": "stdout",
     "output_type": "stream",
     "text": [
      "[[437. 307.]\n",
      " [598. 257.]]\n",
      "\n",
      "accuracy = 0.5610520094562648\n",
      "1.689476392684309\n",
      "0.009901996955042262\n"
     ]
    }
   ],
   "source": [
    "mat = _test(list(wine['quality']+1),clustering.labels_+1)\n",
    "print(mat)\n",
    "print()\n",
    "print('accuracy =',np.mean(np.max(mat,axis=0)/np.sum(mat,axis=0)))\n",
    "_eval(np.array(wine)[:,:-1],clustering.labels_,2)\n",
    "print(homogeneity_score(wine['quality'],list(clustering.labels_+1)))"
   ]
  },
  {
   "cell_type": "code",
   "execution_count": null,
   "metadata": {},
   "outputs": [],
   "source": []
  },
  {
   "cell_type": "code",
   "execution_count": 11,
   "metadata": {},
   "outputs": [
    {
     "name": "stdout",
     "output_type": "stream",
     "text": [
      "[[299. 445.]\n",
      " [241. 614.]]\n",
      "\n",
      "accuracy = 0.5667479802748925\n",
      "1.7004447583499624\n",
      "0.011596094863664173\n"
     ]
    }
   ],
   "source": [
    "mat = _test(list(wine['quality']+1),kmeans.labels_+1)\n",
    "print(mat)\n",
    "print()\n",
    "print('accuracy =',np.mean(np.max(mat,axis=0)/np.sum(mat,axis=0)))\n",
    "_eval(np.array(wine)[:,:-1],kmeans.labels_,2)\n",
    "print(homogeneity_score(wine['quality'],kmeans.labels_))"
   ]
  },
  {
   "cell_type": "code",
   "execution_count": null,
   "metadata": {},
   "outputs": [],
   "source": []
  },
  {
   "cell_type": "code",
   "execution_count": 12,
   "metadata": {},
   "outputs": [
    {
     "name": "stdout",
     "output_type": "stream",
     "text": [
      "[[562. 384.]\n",
      " [293. 360.]]\n",
      "\n",
      "accuracy = 0.5867194868892662\n",
      "0.015134596434435987\n"
     ]
    }
   ],
   "source": [
    "from sklearn.mixture import GaussianMixture\n",
    "mix = GaussianMixture(n_components=2).fit(np.array(wine)[:,:-1])\n",
    "mat = _test(mix.fit_predict(np.array(wine)[:,:-1])+1,wine['quality'])\n",
    "print(mat)\n",
    "print()\n",
    "print('accuracy =',np.mean(np.max(mat,axis=0)/np.sum(mat,axis=0)))\n",
    "print(homogeneity_score(wine['quality'],mix.fit_predict(np.array(wine)[:,:-1])))"
   ]
  },
  {
   "cell_type": "code",
   "execution_count": 13,
   "metadata": {},
   "outputs": [
    {
     "name": "stdout",
     "output_type": "stream",
     "text": [
      "1.7634676891825318\n"
     ]
    }
   ],
   "source": [
    "_eval(np.array(wine)[:,:-1],mix.fit_predict(np.array(wine)[:,:-1]),2)"
   ]
  },
  {
   "cell_type": "markdown",
   "metadata": {},
   "source": [
    "## Observations"
   ]
  }
 ],
 "metadata": {
  "kernelspec": {
   "display_name": "Python 3",
   "language": "python",
   "name": "python3"
  },
  "language_info": {
   "codemirror_mode": {
    "name": "ipython",
    "version": 3
   },
   "file_extension": ".py",
   "mimetype": "text/x-python",
   "name": "python",
   "nbconvert_exporter": "python",
   "pygments_lexer": "ipython3",
   "version": "3.6.5"
  }
 },
 "nbformat": 4,
 "nbformat_minor": 2
}
