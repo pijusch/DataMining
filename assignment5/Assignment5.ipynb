{
 "cells": [
  {
   "cell_type": "markdown",
   "metadata": {},
   "source": [
    "# Assingment 5\n",
    "\n",
    "**Piyush Chawla**"
   ]
  },
  {
   "cell_type": "markdown",
   "metadata": {},
   "source": [
    "## TwoDimHard\n",
    "\n",
    "This section analyses the **TwoDimHard** dataset. The clustering inference and the clustering evaluation follows the layout of assignment rubric. We start with the k-means implementation. Then we compute cohesion and separation metrics for the existing labels in this dataset. The K-means algorithm is run for n = 4 and n = 3 and both these scenarios are compared."
   ]
  },
  {
   "cell_type": "code",
   "execution_count": 68,
   "metadata": {},
   "outputs": [],
   "source": [
    "import pandas as pd\n",
    "from matplotlib import pyplot as plt\n",
    "import numpy as np\n",
    "import random\n",
    "from scipy.spatial.distance import euclidean\n",
    "from sklearn.mixture import GaussianMixture\n",
    "from sklearn.cluster import DBSCAN, KMeans, AgglomerativeClustering\n",
    "from sklearn.metrics import homogeneity_score, v_measure_score, completeness_score\n",
    "from sklearn.metrics import silhouette_score\n",
    "data = pd.read_csv('TwoDimHard.csv')"
   ]
  },
  {
   "cell_type": "markdown",
   "metadata": {},
   "source": [
    "The functions below are the python implementation of k-means algorithm. **kmeans()** take the dataset and cluster number as the input and returns the cluster labels and final means obtained upon the full execution of k-means algorithm. Function **itr()** is a utility function which computes one iteration of the k-means (i.e. new means and new cluster labels). It can be seen that there is an infinite loop in the K-means algorithm. The stopping criterion is the same label assignment in two consecutive iterations. Another alternative could be the same means, which essentially is the exact same condition."
   ]
  },
  {
   "cell_type": "code",
   "execution_count": 5,
   "metadata": {},
   "outputs": [],
   "source": [
    "def itr(data,means,k):\n",
    "    clss = []\n",
    "    for i in range(len(data)):\n",
    "        clss.append(-1)\n",
    "        temp = 10000\n",
    "        for j in range(len(means)):\n",
    "            if euclidean(data[i],means[j]) < temp:\n",
    "                temp = euclidean(data[i],means[j])\n",
    "                clss[i] = j+1\n",
    "    means = np.zeros((k,data.shape[1]))\n",
    "    counts = [0]*k\n",
    "    for i in range(len(clss)):\n",
    "        means[clss[i]-1] = np.add(means[clss[i]-1],data[i])\n",
    "        counts[clss[i]-1]+=1\n",
    "    for i in range(k):\n",
    "        means[i] = means[i]/counts[i]\n",
    "    return clss,means\n",
    "\n",
    "def _kmeans(data,k):\n",
    "    indx = random.sample(range(len(data)),k)\n",
    "    means = []\n",
    "    clss = [-1]*len(data)\n",
    "    for i in indx:\n",
    "        means.append(data[i])\n",
    "    means = np.array(means)\n",
    "    \n",
    "    while True:\n",
    "        _clss,_means = itr(data,means,k)\n",
    "        if clss==_clss:\n",
    "            break\n",
    "        clss = _clss\n",
    "        means = _means\n",
    "        \n",
    "    return range(len(data)),clss"
   ]
  },
  {
   "cell_type": "markdown",
   "metadata": {},
   "source": [
    "The function **colors()** plots clusters in 'TwoDimHard' dataset. It can be noticed that this function has been hardcoded to handle only two dimensions. So will skip its use in the later part of the assignment (Wine dataset)."
   ]
  },
  {
   "cell_type": "code",
   "execution_count": 32,
   "metadata": {},
   "outputs": [],
   "source": [
    "colors = ['red','blue','green','yellow','orange']\n",
    "def plot(data,clss,k,txt):\n",
    "    _plot = []\n",
    "    fig = plt.figure()\n",
    "    for i in range(k+1):\n",
    "        _plot.append([])\n",
    "    for i in range(len(data)):\n",
    "        _plot[clss[i]].append(data[i])\n",
    "    for i in range(0,k+1):\n",
    "        if len(_plot[i])==0:\n",
    "            continue\n",
    "        _plot[i] = np.array(_plot[i])\n",
    "        plt.scatter(_plot[i][:,0],_plot[i][:,1],c = colors[i])\n",
    "    plt.xlabel('X.1')\n",
    "    plt.ylabel('X.2')\n",
    "    fig.text(0.3,-0.03,txt)\n",
    "    plt.show()\n",
    "    "
   ]
  },
  {
   "cell_type": "markdown",
   "metadata": {},
   "source": [
    "The function **CohSep()** computes per cluster SSE, overall SSE and SSB metrics for the clusters found by k-means."
   ]
  },
  {
   "cell_type": "code",
   "execution_count": 10,
   "metadata": {},
   "outputs": [],
   "source": [
    "def CohSep(data,clss,k):\n",
    "    div = []\n",
    "    for i in range(k):\n",
    "        div.append([])\n",
    "    for i in range(len(clss)):\n",
    "        div[clss[i]].append(data[i])\n",
    "    means = []\n",
    "    for i in range(k):\n",
    "        means.append( np.mean(np.array(div[i]),axis=0))\n",
    "    \n",
    "    sse = []\n",
    "    ssb = 0\n",
    "    center = np.mean(np.array(means),axis=0)\n",
    "    for i in range(k):\n",
    "        temp = 0\n",
    "        for j in div[i]:\n",
    "            temp+=euclidean(means[i],j)**2\n",
    "        sse.append(temp)\n",
    "        ssb+=len(div[i])*euclidean(center,means[i])**2\n",
    "    for i in range(len(sse)):\n",
    "        print('cluster =',i+1,'SSE',sse[i])\n",
    "    print('Total SSE = ',np.sum(sse))\n",
    "    print('SSB = ',ssb)\n",
    "    print('SSE + SSB = ',np.sum(sse)+ssb)"
   ]
  },
  {
   "cell_type": "markdown",
   "metadata": {},
   "source": [
    "Function **conf()** computes the cross-tabulation matrix. In cases where the number of clusters is different for the true and predicted labels, the code leaves some rows/columns with all zeros"
   ]
  },
  {
   "cell_type": "code",
   "execution_count": 8,
   "metadata": {},
   "outputs": [],
   "source": [
    "def conf(pred,true):\n",
    "    labs = max(len(set(pred)),len(set(true)))\n",
    "    out = np.zeros((labs,labs))\n",
    "    for i in range(len(pred)):\n",
    "        out[pred[i]-1][true[i]-1]+=1\n",
    "    return out"
   ]
  },
  {
   "cell_type": "markdown",
   "metadata": {},
   "source": [
    "### A\n",
    "\n",
    "The code below computes SSE and SSB values for the pre-defined clusters."
   ]
  },
  {
   "cell_type": "code",
   "execution_count": 11,
   "metadata": {},
   "outputs": [
    {
     "name": "stdout",
     "output_type": "stream",
     "text": [
      "cluster = 1 SSE 0.31284771797726363\n",
      "cluster = 2 SSE 0.9025336156215499\n",
      "cluster = 3 SSE 2.4301187182254433\n",
      "cluster = 4 SSE 1.910715466347143\n",
      "Total SSE =  5.5562155181714\n",
      "SSB =  23.863790948578302\n",
      "SSE + SSB =  29.4200064667497\n"
     ]
    }
   ],
   "source": [
    "CohSep(np.array(data[['X.1','X.2']]),data['cluster']-1,4)"
   ]
  },
  {
   "cell_type": "markdown",
   "metadata": {},
   "source": [
    "### B\n",
    "\n",
    "The code below runs k-means on the dataset assuming that there are 4 clusters (n =4)."
   ]
  },
  {
   "cell_type": "code",
   "execution_count": 12,
   "metadata": {
    "scrolled": false
   },
   "outputs": [],
   "source": [
    "_id, clss = _kmeans(np.array(data[['X.1','X.2']]),4)"
   ]
  },
  {
   "cell_type": "markdown",
   "metadata": {},
   "source": [
    "#### 1\n",
    "\n",
    "We compute the SSE and SSB values for the new class labels computed by k-means() function. We can see that the SSE value got reduced from (5.56 to 4.89). This is because the dataset had overlapping clusters (which can be seen in the scatter plot below). However, the SSB value sees some minor increase. This might be due to the reason that now the number of elements in each cluster is different from the previous labeling. Also, the overall SSE+SSB value is reduced for k-means labeling."
   ]
  },
  {
   "cell_type": "code",
   "execution_count": 13,
   "metadata": {},
   "outputs": [
    {
     "name": "stdout",
     "output_type": "stream",
     "text": [
      "cluster = 1 SSE 1.8446030116907746\n",
      "cluster = 2 SSE 1.4705341945503394\n",
      "cluster = 3 SSE 0.5004805751481358\n",
      "cluster = 4 SSE 1.0764850881678978\n",
      "Total SSE =  4.892102869557148\n",
      "SSB =  24.46052077370296\n",
      "SSE + SSB =  29.35262364326011\n"
     ]
    }
   ],
   "source": [
    "CohSep(np.array(data[['X.1','X.2']]),np.array(clss)-1,4)"
   ]
  },
  {
   "cell_type": "markdown",
   "metadata": {},
   "source": [
    "#### 2\n",
    "The code below plots both the original clustering classes and the ones computed by the **kmeans()** function. As discussed before, the first plot has some overlapping clusters. The K-means output does not have that issue, which is due to the way this algorithm works. (Gaussian mixture might give overlapping clusters, similar to the generated data)"
   ]
  },
  {
   "cell_type": "code",
   "execution_count": 34,
   "metadata": {},
   "outputs": [
    {
     "data": {
      "image/png": "[encoded data removed]",
      "text/plain": [
       "<Figure size 432x288 with 1 Axes>"
      ]
     },
     "metadata": {},
     "output_type": "display_data"
    },
    {
     "data": {
      "image/png": "[encoded data removed]",
      "text/plain": [
       "<Figure size 432x288 with 1 Axes>"
      ]
     },
     "metadata": {},
     "output_type": "display_data"
    }
   ],
   "source": [
    "plot(np.array(data[['X.1','X.2']]),np.array(data['cluster']),4,'Ground truth labelling')\n",
    "plot(np.array(data[['X.1','X.2']]),clss,4,'Kmeans labelling')"
   ]
  },
  {
   "cell_type": "markdown",
   "metadata": {},
   "source": [
    "#### 3\n",
    "\n",
    "The code below computes the cross-tabulation matrix. Here rows and correspond to predicted cluster labels and columns correspond to labels in the original dataset."
   ]
  },
  {
   "cell_type": "code",
   "execution_count": 91,
   "metadata": {},
   "outputs": [
    {
     "name": "stdout",
     "output_type": "stream",
     "text": [
      "[[  0.  98.   2.   8.]\n",
      " [  0.   0.  88.   2.]\n",
      " [ 89.   2.   4.   0.]\n",
      " [  0.   0.   3. 104.]]\n"
     ]
    }
   ],
   "source": [
    "mat = conf(clss,list(data['cluster']))\n",
    "print(mat)"
   ]
  },
  {
   "cell_type": "markdown",
   "metadata": {},
   "source": [
    "### C\n",
    "\n",
    "We now repeat our analysis by putting n = 3 in k-means code (3 clusters)\n",
    "\n",
    "#### 1.\n",
    "\n",
    "The code below computes the SSE and SSB values for 3 clusters. We see that SSE values for all the clusters increased (this obvious because now each cluster has more members than it had for n = 4, and also the clusters are not as compact as before). We also see is a reduction in the SSB value. However, the total SSE + SSB value is increased. Since the clusters lose compactness and overall SSE + SSB gets reduced, n = 4 seems a better option."
   ]
  },
  {
   "cell_type": "code",
   "execution_count": 35,
   "metadata": {},
   "outputs": [
    {
     "name": "stdout",
     "output_type": "stream",
     "text": [
      "cluster = 1 SSE 2.208190729993252\n",
      "cluster = 2 SSE 1.9594008356114225\n",
      "cluster = 3 SSE 4.393772046753148\n",
      "Total SSE =  8.561363612357823\n",
      "SSB =  21.806647084120662\n",
      "SSE + SSB =  30.368010696478485\n"
     ]
    }
   ],
   "source": [
    "_id, clss = _kmeans(np.array(data[['X.1','X.2']]),3)\n",
    "CohSep(np.array(data[['X.1','X.2']]),np.array(clss)-1,3)"
   ]
  },
  {
   "cell_type": "markdown",
   "metadata": {},
   "source": [
    "#### 2\n",
    "\n",
    "The code below shows the scatter plot similar to part B."
   ]
  },
  {
   "cell_type": "code",
   "execution_count": 37,
   "metadata": {},
   "outputs": [
    {
     "data": {
      "image/png": "[encoded data removed]",
      "text/plain": [
       "<Figure size 432x288 with 1 Axes>"
      ]
     },
     "metadata": {},
     "output_type": "display_data"
    },
    {
     "data": {
      "image/png": "[encoded data removed]",
      "text/plain": [
       "<Figure size 432x288 with 1 Axes>"
      ]
     },
     "metadata": {},
     "output_type": "display_data"
    }
   ],
   "source": [
    "plot(np.array(data[['X.1','X.2']]),np.array(data['cluster']),4,'Ground truth labelling')\n",
    "plot(np.array(data[['X.1','X.2']]),clss,3,'Kmeans labelling')"
   ]
  },
  {
   "cell_type": "markdown",
   "metadata": {},
   "source": [
    "#### 3\n",
    "\n",
    "The code below computes the cross-tabulation matrix. Again the rows correspond to the predicted labels and columns correspond to true labels. Since there are only three predicted clusters the last row is empty."
   ]
  },
  {
   "cell_type": "code",
   "execution_count": 98,
   "metadata": {},
   "outputs": [
    {
     "name": "stdout",
     "output_type": "stream",
     "text": [
      "[[  0.   6.   3. 110.]\n",
      " [  0.   0.  89.   3.]\n",
      " [ 89.  94.   5.   1.]\n",
      " [  0.   0.   0.   0.]]\n"
     ]
    }
   ],
   "source": [
    "mat = conf(clss,list(data['cluster']))\n",
    "print(mat)"
   ]
  },
  {
   "cell_type": "markdown",
   "metadata": {},
   "source": [
    "## Wine Dataset\n",
    "\n",
    "In this section, we do inference on the 'Wine' dataset. Since the **quality** column, in a couple of previous assignments, has been binned into two values, we treat that as the ground truth for the cluster labels. We explore three clustering methods (pre-implemented in the sklearn library), namely K-means, Agglomerative clustering, and Gaussian mixtures.\n",
    "\n",
    "The code below normalizes the dataset and bins the quality column into two (<=5 and >5) values."
   ]
  },
  {
   "cell_type": "code",
   "execution_count": 39,
   "metadata": {},
   "outputs": [],
   "source": [
    "from sklearn.preprocessing import normalize\n",
    "wine = pd.read_csv('winequality-red.csv',sep=';')\n",
    "wine.iloc[0]\n",
    "tmp = []\n",
    "\n",
    "for i in range(len(wine)):\n",
    "    if wine['quality'].iloc[i]<= 5:\n",
    "        tmp.append(0)\n",
    "    else:\n",
    "        tmp.append(1)\n",
    "wine['quality'] = tmp\n",
    "\n",
    "for i in list(wine.keys()):\n",
    "    if i == 'quality':\n",
    "        continue\n",
    "    else:\n",
    "        wine[i] = normalize(np.array(wine[i]).reshape(1, -1))[0]"
   ]
  },
  {
   "cell_type": "markdown",
   "metadata": {},
   "source": [
    "Computing SSE and SSB metrics for the existing labels (generated by binning the 'quality' column). The silhouette score, completeness and homogeneity values are also computed. We will use these values as the baseline."
   ]
  },
  {
   "cell_type": "code",
   "execution_count": 47,
   "metadata": {},
   "outputs": [
    {
     "name": "stdout",
     "output_type": "stream",
     "text": [
      "cluster = 1 SSE 0.8376862159405079\n",
      "cluster = 2 SSE 0.7726100698813582\n",
      "Total SSE =  1.6102962858218661\n",
      "SSB =  0.046597875607361276\n",
      "SSE + SSB =  1.6568941614292274\n",
      "\n",
      "Silhouette score =  0.037661006051162654\n",
      "\n",
      "Homogeneity =  1.0\n",
      "\n",
      "Completeness =  1.0\n"
     ]
    }
   ],
   "source": [
    "CohSep(np.array(wine)[:,:-1],wine['quality'],2)\n",
    "print()\n",
    "print('Silhouette score = ',silhouette_score(np.array(wine)[:,:-1], wine['quality'], metric='euclidean'))\n",
    "print()\n",
    "print('Homogeneity = ',homogeneity_score(wine['quality'],list(wine['quality'])))\n",
    "print()\n",
    "print('Completeness = ',completeness_score(wine['quality'],list(wine['quality'])))"
   ]
  },
  {
   "cell_type": "markdown",
   "metadata": {},
   "source": [
    "### K-Means\n",
    "\n",
    "This section uses the k-means implementation in python. We choose cluster number to be 2 (so that we can compare with the baseline). All other parameters are the default (changing these parameters does not affect the output considerably). The code below computes the clustering labels."
   ]
  },
  {
   "cell_type": "code",
   "execution_count": 62,
   "metadata": {},
   "outputs": [],
   "source": [
    "kmeans = KMeans(n_clusters=2, random_state=0).fit(np.array(wine)[:,:-1])"
   ]
  },
  {
   "cell_type": "code",
   "execution_count": 63,
   "metadata": {},
   "outputs": [
    {
     "name": "stdout",
     "output_type": "stream",
     "text": [
      "cluster = 1 SSE 0.5729951815763623\n",
      "cluster = 2 SSE 0.711931583512176\n",
      "Total SSE =  1.2849267650885383\n",
      "SSB =  0.41551799326142413\n",
      "SSE + SSB =  1.7004447583499624\n",
      "\n",
      "Silhouette score =  0.2660740880763293\n",
      "\n",
      "Homogeneity =  0.011596094863664173\n",
      "\n",
      "Completeness =  0.012525047840037246\n"
     ]
    }
   ],
   "source": [
    "CohSep(np.array(wine)[:,:-1],kmeans.labels_,2)\n",
    "print()\n",
    "print('Silhouette score = ',silhouette_score(np.array(wine)[:,:-1], kmeans.labels_, metric='euclidean'))\n",
    "print()\n",
    "print('Homogeneity = ',homogeneity_score(wine['quality'],list(kmeans.labels_)))\n",
    "print()\n",
    "print('Completeness = ',completeness_score(wine['quality'],list(kmeans.labels_)))"
   ]
  },
  {
   "cell_type": "markdown",
   "metadata": {},
   "source": [
    "The code below computes the cross tabulation matrix and computes the accuracy using the matrix."
   ]
  },
  {
   "cell_type": "code",
   "execution_count": 64,
   "metadata": {},
   "outputs": [
    {
     "name": "stdout",
     "output_type": "stream",
     "text": [
      "[[299. 445.]\n",
      " [241. 614.]]\n",
      "\n",
      "accuracy = 0.5667479802748925\n"
     ]
    }
   ],
   "source": [
    "mat = conf(list(wine['quality']+1),kmeans.labels_+1)\n",
    "print(mat)\n",
    "print()\n",
    "print('accuracy =',np.mean(np.max(mat,axis=0)/np.sum(mat,axis=0)))"
   ]
  },
  {
   "cell_type": "markdown",
   "metadata": {},
   "source": [
    "### Agglomerative Clustering\n",
    "\n",
    "This section uses agglomerative clustering using all the default values (the default cluster number is 2). We use the same metrics used above."
   ]
  },
  {
   "cell_type": "code",
   "execution_count": 65,
   "metadata": {},
   "outputs": [],
   "source": [
    "clustering = AgglomerativeClustering().fit(np.array(wine)[:,:-1])"
   ]
  },
  {
   "cell_type": "code",
   "execution_count": 69,
   "metadata": {},
   "outputs": [
    {
     "name": "stdout",
     "output_type": "stream",
     "text": [
      "cluster = 1 SSE 0.5729951815763623\n",
      "cluster = 2 SSE 0.711931583512176\n",
      "Total SSE =  1.2849267650885383\n",
      "SSB =  0.41551799326142413\n",
      "SSE + SSB =  1.7004447583499624\n",
      "\n",
      "Silhouette score =  0.24113451298449215\n",
      "\n",
      "Homogeneity =  0.009901996955042262\n",
      "\n",
      "Completeness =  0.010536914651343085\n",
      "\n",
      "[[437. 307.]\n",
      " [598. 257.]]\n",
      "\n",
      "accuracy = 0.5610520094562648\n"
     ]
    }
   ],
   "source": [
    "CohSep(np.array(wine)[:,:-1],kmeans.labels_,2)\n",
    "print()\n",
    "print('Silhouette score = ',silhouette_score(np.array(wine)[:,:-1], clustering.labels_, metric='euclidean'))\n",
    "print()\n",
    "print('Homogeneity = ',homogeneity_score(wine['quality'],list(clustering.labels_)))\n",
    "print()\n",
    "print('Completeness = ',completeness_score(wine['quality'],list(clustering.labels_)))\n",
    "print()\n",
    "mat = conf(list(wine['quality']+1),clustering.labels_+1)\n",
    "print(mat)\n",
    "print()\n",
    "print('accuracy =',np.mean(np.max(mat,axis=0)/np.sum(mat,axis=0)))"
   ]
  },
  {
   "cell_type": "markdown",
   "metadata": {},
   "source": [
    "### Gaussian Mixture\n",
    "\n",
    "This part uses Gaussian mixture model (with 2 components) and all the default values. The same metrics are used as above for evaluation."
   ]
  },
  {
   "cell_type": "code",
   "execution_count": 120,
   "metadata": {},
   "outputs": [
    {
     "name": "stdout",
     "output_type": "stream",
     "text": [
      "cluster = 1 SSE 0.7782891999966496\n",
      "cluster = 2 SSE 0.6620989179785107\n",
      "Total SSE =  1.4403881179751603\n",
      "SSB =  0.2526964290863836\n",
      "SSE + SSB =  1.6930845470615439\n",
      "\n",
      "Silhouette score =  0.20421578283385594\n",
      "\n",
      "Homogeneity =  0.01681832814239313\n",
      "\n",
      "Completeness =  0.018759651566741854\n",
      "\n",
      "[[457. 287.]\n",
      " [646. 209.]]\n",
      "\n",
      "accuracy = 0.5821522314508818\n"
     ]
    }
   ],
   "source": [
    "mix = GaussianMixture(n_components=2,reg_covar=1e-06, max_iter = 1000,tol = 0.00001).fit(np.array(wine)[:,:-1])\n",
    "labs = mix.fit_predict(np.array(wine)[:,:-1])\n",
    "CohSep(np.array(wine)[:,:-1],labs,2)\n",
    "print()\n",
    "print('Silhouette score = ',silhouette_score(np.array(wine)[:,:-1], labs, metric='euclidean'))\n",
    "print()\n",
    "print('Homogeneity = ',homogeneity_score(wine['quality'],list(labs)))\n",
    "print()\n",
    "print('Completeness = ',completeness_score(wine['quality'],list(labs)))\n",
    "print()\n",
    "mat = conf(list(wine['quality']+1),labs+1)\n",
    "print(mat)\n",
    "print()\n",
    "print('accuracy =',np.mean(np.max(mat,axis=0)/np.sum(mat,axis=0)))"
   ]
  },
  {
   "cell_type": "markdown",
   "metadata": {},
   "source": [
    "## Observations\n",
    "\n",
    "The table below summarizes all the metric results we obtained in this section.\n",
    "\n",
    "\n",
    "| Clustering Method | SSE+SSB | Silhouttte | Homogeneity | Completeness | Accuracy | \n",
    "| --- | --- | --- | --- | --- | --- | --- |\n",
    "| Baseline | 1.66 | 0.038 |1.0 | 1.0 |1.0|\n",
    "| K-Means | 1.70 | .27 | 0.012| 0.013 | 0.567 |\n",
    "| Agglomerative | 1.70 | 0.241 | 0.01| 0.011| 0.56 |\n",
    "| Gaussian Mixture | 1.69 | 0.2| 0.017| 0.0188| 0.582|\n",
    "\n",
    "\n",
    "No model gives satisfactory accuracy. This was expected because clustering models are not as powerful as classifiers like SVM etc. These models just use simple metrics like Euclidean distance or fitting data to Gaussian distributions etc.\n",
    "\n",
    "We observer that Gaussian mixture performs best amongst all three when we see the accuracy. This model also has the lowest (marginally) SSE+SSB value. So we would go with the Gaussian mixture if we chose the number of the cluster to be 2 (even if we didn't have true labels since it has the best cohesion + separation value)\n"
   ]
  }
 ],
 "metadata": {
  "kernelspec": {
   "display_name": "Python 3",
   "language": "python",
   "name": "python3"
  },
  "language_info": {
   "codemirror_mode": {
    "name": "ipython",
    "version": 3
   },
   "file_extension": ".py",
   "mimetype": "text/x-python",
   "name": "python",
   "nbconvert_exporter": "python",
   "pygments_lexer": "ipython3",
   "version": "3.6.5"
  }
 },
 "nbformat": 4,
 "nbformat_minor": 2
}
