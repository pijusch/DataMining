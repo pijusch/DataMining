{
 "cells": [
  {
   "cell_type": "markdown",
   "metadata": {},
   "source": [
    "# Assingment 4\n",
    "\n",
    "#### *Piyush Chawla*"
   ]
  },
  {
   "cell_type": "markdown",
   "metadata": {},
   "source": [
    "## Adult Dataset"
   ]
  },
  {
   "cell_type": "markdown",
   "metadata": {},
   "source": [
    "For this dataset we will use the output file from assignment 1. As discussed in assingment 1 some redundant attributes have been eliminated and some new attributes are introduced. The code below gives the names of all the final 12 attributes."
   ]
  },
  {
   "cell_type": "code",
   "execution_count": 35,
   "metadata": {},
   "outputs": [
    {
     "name": "stdout",
     "output_type": "stream",
     "text": [
      "['age', 'workclass', 'education-num', 'marital-status', 'occupation', 'relationship', 'race', 'sex', 'capital-gain-2', 'hours-per-week', 'native-country', 'income']\n"
     ]
    }
   ],
   "source": [
    "import pandas as pd\n",
    "data = pd.read_csv('adult.data.new')\n",
    "data = data[list(data.keys())[1:]]\n",
    "print(list(data.keys()))"
   ]
  },
  {
   "cell_type": "markdown",
   "metadata": {},
   "source": [
    "Some attributes are currently in their nominal form (strings). Therefore, we first convert such attributes into integers. For example, '<=50K' in income is mapped to integer 0 and '>50K' to 1."
   ]
  },
  {
   "cell_type": "code",
   "execution_count": 127,
   "metadata": {},
   "outputs": [],
   "source": [
    "def toint(key):\n",
    "    labels,levels = pd.factorize(data[key])\n",
    "    data[key] = labels\n",
    "for i in data.keys():\n",
    "    if 'unique' in data[i].describe():\n",
    "        toint(i)"
   ]
  },
  {
   "cell_type": "markdown",
   "metadata": {},
   "source": [
    "Out of all the 12 attributes only 'capital-gain-2' (combination of capital gain and capital loss obtained in assignment 1) requires normalization. So we normalize it in the code below."
   ]
  },
  {
   "cell_type": "code",
   "execution_count": 128,
   "metadata": {},
   "outputs": [],
   "source": [
    "from sklearn.preprocessing import normalize\n",
    "data['capital-gain-2'] = normalize(np.array(data['capital-gain-2']).reshape(1, -1))[0]"
   ]
  },
  {
   "cell_type": "markdown",
   "metadata": {},
   "source": [
    "For this dataset we will user four classifiers namely, Random Forest, Logistic Regression, MLP (Neural Networks) and AdaBoost. We use single partition method for validation (and choosing right hyper-parameters). The data is divided into train (70%), test (15%) and validation (15%).\n",
    "We keep the test data aside and choose the final classifier (by varying the hyper-parameters as per validation performance). One we have a classifier that works good on valid data, we use the test data and obtain the accuracy by using different measures like AUC, ROC curve, simple accuracy, Precision, Recall and F-1."
   ]
  },
  {
   "cell_type": "markdown",
   "metadata": {},
   "source": [
    "### Random Forest"
   ]
  },
  {
   "cell_type": "code",
   "execution_count": 39,
   "metadata": {},
   "outputs": [
    {
     "name": "stdout",
     "output_type": "stream",
     "text": [
      "Train Accuracy 0.9786328536328537\n",
      "Valid Accuracy 0.8472876151484136\n",
      "[[3452  334]\n",
      " [ 412  687]]\n",
      "(array([0.89337474, 0.67286974]), array([0.91178024, 0.62511374]), array([0.90248366, 0.64811321]), array([3786, 1099]))\n",
      "0.7684469913819749\n"
     ]
    },
    {
     "data": {
      "image/png": "[encoded data removed]",
      "text/plain": [
       "<Figure size 432x288 with 1 Axes>"
      ]
     },
     "metadata": {},
     "output_type": "display_data"
    }
   ],
   "source": [
    "from sklearn.ensemble import RandomForestClassifier\n",
    "from sklearn.linear_model import LogisticRegression\n",
    "import numpy as np\n",
    "\n",
    "clf = RandomForestClassifier(n_estimators=100, max_depth=100, random_state=0)\n",
    "from sklearn.model_selection import train_test_split\n",
    "from sklearn.metrics import confusion_matrix\n",
    "\n",
    "_data = np.array(data)\n",
    "X = _data[:,:-1]\n",
    "y = _data[:,-1]\n",
    "y = y.astype('int')\n",
    "\n",
    "X_train, X_test, y_train, y_test = train_test_split(X, y, test_size=0.3, random_state=1)\n",
    "X_test, X_valid, y_test, y_valid = train_test_split(X_test, y_test, test_size=0.5, random_state=1)\n",
    "\n",
    "clf.fit(X_train,y_train)\n",
    "\n",
    "from matplotlib import pyplot as plt\n",
    "from sklearn.metrics import accuracy_score, precision_recall_fscore_support, roc_curve, roc_auc_score\n",
    "\n",
    "print('Train Accuracy ' + str(accuracy_score(clf.predict(X_train),y_train)))\n",
    "print('Valid Accuracy ' + str(accuracy_score(clf.predict(X_valid),y_valid)))\n",
    "print('Test Accuracy ' + str(accuracy_score(clf.predict(X_test),y_test)))\n",
    "\n",
    "print('confusion matrix = 'confusion_matrix(y_valid,clf.predict(X_valid)))\n",
    "prfs = precision_recall_fscore_support(y_valid,clf.predict(X_valid))\n",
    "print('precision = ' str(prfs[0][0]))\n",
    "print('recall = ' str(prfs[1][0]))\n",
    "print('F-1 = ' str(prfs[2][0]))\n",
    "print(roc_auc_score(y_valid,clf.predict(X_valid)))\n",
    "fpr,tpr,th = roc_curve(y_valid,clf.predict_proba(X_valid)[:,1])\n",
    "plt.plot(fpr,tpr)\n",
    "plt.show()"
   ]
  },
  {
   "cell_type": "markdown",
   "metadata": {},
   "source": [
    "### Logistic Regression"
   ]
  },
  {
   "cell_type": "code",
   "execution_count": 42,
   "metadata": {},
   "outputs": [
    {
     "name": "stderr",
     "output_type": "stream",
     "text": [
      "/home/chawla/.local/lib/python3.6/site-packages/sklearn/linear_model/logistic.py:758: ConvergenceWarning: lbfgs failed to converge. Increase the number of iterations.\n",
      "  \"of iterations.\", ConvergenceWarning)\n"
     ]
    },
    {
     "name": "stdout",
     "output_type": "stream",
     "text": [
      "Train Accuracy 0.7652685152685152\n",
      "Valid Accuracy 0.7862845445240533\n",
      "[[3584  202]\n",
      " [ 842  257]]\n",
      "(array([0.80976051, 0.55991285]), array([0.94664554, 0.23384895]), array([0.87286897, 0.32991014]), array([3786, 1099]))\n",
      "0.5902472448900624\n"
     ]
    },
    {
     "data": {
      "image/png": "[encoded data removed]",
      "text/plain": [
       "<Figure size 432x288 with 1 Axes>"
      ]
     },
     "metadata": {},
     "output_type": "display_data"
    }
   ],
   "source": [
    "clf = LogisticRegression(random_state=0, solver='lbfgs',multi_class='multinomial', max_iter = 100)\n",
    "\n",
    "clf.fit(X_train,y_train)\n",
    "\n",
    "from matplotlib import pyplot as plt\n",
    "from sklearn.metrics import accuracy_score, precision_recall_fscore_support, roc_curve, roc_auc_score\n",
    "\n",
    "print('Train Accuracy ' + str(accuracy_score(clf.predict(X_train),y_train)))\n",
    "print('Valid Accuracy ' + str(accuracy_score(clf.predict(X_valid),y_valid)))\n",
    "print('Test Accuracy ' + str(accuracy_score(clf.predict(X_test),y_test)))\n",
    "\n",
    "print(confusion_matrix(y_valid,clf.predict(X_valid)))\n",
    "print(precision_recall_fscore_support(y_valid,clf.predict(X_valid)))\n",
    "print(roc_auc_score(y_valid,clf.predict(X_valid)))\n",
    "fpr,tpr,th = roc_curve(y_valid,clf.predict_proba(X_valid)[:,1])\n",
    "plt.plot(fpr,tpr)\n",
    "plt.show()\n"
   ]
  },
  {
   "cell_type": "markdown",
   "metadata": {},
   "source": [
    "### MLP Classifier"
   ]
  },
  {
   "cell_type": "code",
   "execution_count": 46,
   "metadata": {},
   "outputs": [
    {
     "name": "stdout",
     "output_type": "stream",
     "text": [
      "Train Accuracy 0.8214724464724464\n",
      "Valid Accuracy 0.8231320368474924\n",
      "Test Accuracy 0.8226863226863227\n",
      "[[3410  376]\n",
      " [ 488  611]]\n",
      "(array([0.87480759, 0.61904762]), array([0.90068674, 0.55595996]), array([0.88755856, 0.58581016]), array([3786, 1099]))\n",
      "0.7283233521133124\n",
      "[0 0 1 ... 1 0 0]\n",
      "[[0.75210285 0.24789715]\n",
      " [0.86299097 0.13700903]\n",
      " [0.35946282 0.64053718]\n",
      " ...\n",
      " [0.2922825  0.7077175 ]\n",
      " [0.95373425 0.04626575]\n",
      " [0.97730232 0.02269768]]\n",
      "[0.24789715 0.13700903 0.64053718 ... 0.7077175  0.04626575 0.02269768]\n",
      "[1.99687173e+00 9.96871734e-01 9.34313325e-01 ... 9.70323553e-06\n",
      " 9.65293568e-06 3.05497255e-08]\n"
     ]
    },
    {
     "data": {
      "image/png": "[encoded data removed]",
      "text/plain": [
       "<Figure size 432x288 with 1 Axes>"
      ]
     },
     "metadata": {},
     "output_type": "display_data"
    }
   ],
   "source": [
    "from sklearn.neural_network import MLPClassifier\n",
    "\n",
    "clf = MLPClassifier()\n",
    "\n",
    "clf.fit(X_train,y_train)\n",
    "\n",
    "from matplotlib import pyplot as plt\n",
    "from sklearn.metrics import accuracy_score, precision_recall_fscore_support, roc_curve, roc_auc_score\n",
    "\n",
    "print('Train Accuracy ' + str(accuracy_score(clf.predict(X_train),y_train)))\n",
    "print('Valid Accuracy ' + str(accuracy_score(clf.predict(X_valid),y_valid)))\n",
    "print('Test Accuracy ' + str(accuracy_score(clf.predict(X_test),y_test)))\n",
    "\n",
    "print(confusion_matrix(y_valid,clf.predict(X_valid)))\n",
    "print(precision_recall_fscore_support(y_valid,clf.predict(X_valid)))\n",
    "print(roc_auc_score(y_valid,clf.predict(X_valid)))\n",
    "fpr,tpr,th = roc_curve(y_valid,clf.predict_proba(X_valid)[:,1])\n",
    "print(clf.predict(X_valid))\n",
    "print(clf.predict_proba(X_valid))\n",
    "print(clf.predict_proba(X_valid)[:,1])\n",
    "print(th)\n",
    "plt.plot(fpr,tpr)\n",
    "plt.show()"
   ]
  },
  {
   "cell_type": "markdown",
   "metadata": {},
   "source": [
    "### AdaBoost Classifier"
   ]
  },
  {
   "cell_type": "code",
   "execution_count": 45,
   "metadata": {},
   "outputs": [
    {
     "name": "stdout",
     "output_type": "stream",
     "text": [
      "Train Accuracy 0.8560898560898561\n",
      "Valid Accuracy 0.8642784032753327\n",
      "Test Accuracy 0.8581081081081081\n",
      "[[3563  223]\n",
      " [ 440  659]]\n",
      "(array([0.89008244, 0.74716553]), array([0.94109878, 0.59963603]), array([0.91487996, 0.66532055]), array([3786, 1099]))\n",
      "0.7703674088772053\n",
      "[0 0 0 ... 0 0 0]\n",
      "[[0.50403629 0.49596371]\n",
      " [0.5093271  0.4906729 ]\n",
      " [0.50355545 0.49644455]\n",
      " ...\n",
      " [0.50116596 0.49883404]\n",
      " [0.51327944 0.48672056]\n",
      " [0.51338834 0.48661166]]\n",
      "[0.49596371 0.4906729  0.49644455 ... 0.49883404 0.48672056 0.48661166]\n",
      "[1.54400321 0.54400321 0.5425042  ... 0.44707261 0.44616444 0.43251046]\n"
     ]
    },
    {
     "data": {
      "image/png": "[encoded data removed]",
      "text/plain": [
       "<Figure size 432x288 with 1 Axes>"
      ]
     },
     "metadata": {},
     "output_type": "display_data"
    }
   ],
   "source": [
    "from sklearn.ensemble import AdaBoostClassifier\n",
    "\n",
    "clf = AdaBoostClassifier()\n",
    "clf.fit(X_train,y_train)\n",
    "\n",
    "from matplotlib import pyplot as plt\n",
    "from sklearn.metrics import accuracy_score, precision_recall_fscore_support, roc_curve, roc_auc_score\n",
    "\n",
    "print('Train Accuracy ' + str(accuracy_score(clf.predict(X_train),y_train)))\n",
    "print('Valid Accuracy ' + str(accuracy_score(clf.predict(X_valid),y_valid)))\n",
    "print('Test Accuracy ' + str(accuracy_score(clf.predict(X_test),y_test)))\n",
    "\n",
    "print(confusion_matrix(y_valid,clf.predict(X_valid)))\n",
    "print(precision_recall_fscore_support(y_valid,clf.predict(X_valid)))\n",
    "print(roc_auc_score(y_valid,clf.predict(X_valid)))\n",
    "fpr,tpr,th = roc_curve(y_valid,clf.predict_proba(X_valid)[:,1])\n",
    "print(clf.predict(X_valid))\n",
    "print(clf.predict_proba(X_valid))\n",
    "print(clf.predict_proba(X_valid)[:,1])\n",
    "print(th)\n",
    "plt.plot(fpr,tpr)\n",
    "plt.show()"
   ]
  },
  {
   "cell_type": "markdown",
   "metadata": {},
   "source": [
    "It should be observed that"
   ]
  },
  {
   "cell_type": "markdown",
   "metadata": {},
   "source": [
    "## Wine Dataset"
   ]
  },
  {
   "cell_type": "markdown",
   "metadata": {},
   "source": [
    "For this task we use k-cross validation approach before subjecting the model to the test data."
   ]
  },
  {
   "cell_type": "code",
   "execution_count": 97,
   "metadata": {},
   "outputs": [],
   "source": [
    "def kcross(clf,X,y,k):\n",
    "    val = []\n",
    "    for i in range(k):\n",
    "        s = int(len(X)*(i/k))\n",
    "        e = int(len(X)*((i+1)/k))\n",
    "        X_train = np.concatenate((X[:s],X[e:]))\n",
    "        y_train = np.concatenate((y[:s],y[e:]))\n",
    "        X_valid = X[s:e]\n",
    "        y_valid = y[s:e]\n",
    "        clf.fit(X_train,y_train)\n",
    "        val.append(accuracy_score(clf.predict(X_valid),y_valid))\n",
    "        print('Valid Accuracy iter:'+str(i) + ' = ' +str(accuracy_score(clf.predict(X_valid),y_valid)))\n",
    "    clf.fit(X,y)\n",
    "    print('Average Valid Accuracy:'+' = '+str(np.mean(val)))\n",
    "    return clf\n",
    "        \n",
    "        "
   ]
  },
  {
   "cell_type": "markdown",
   "metadata": {},
   "source": []
  },
  {
   "cell_type": "code",
   "execution_count": 98,
   "metadata": {
    "scrolled": false
   },
   "outputs": [],
   "source": [
    "wine = pd.read_csv('winequality-red.csv',sep=';')\n",
    "wine.iloc[0]\n",
    "tmp = []\n",
    "\n",
    "for i in range(len(wine)):\n",
    "    if wine['quality'].iloc[i]<= 5:\n",
    "        tmp.append(0)\n",
    "    else:\n",
    "        tmp.append(1)\n",
    "wine['quality'] = tmp\n",
    "\n",
    "for i in list(wine.keys()):\n",
    "    if i == 'quality':\n",
    "        continue\n",
    "    else:\n",
    "        wine[i] = normalize(np.array(wine[i]).reshape(1, -1))[0]"
   ]
  },
  {
   "cell_type": "code",
   "execution_count": 99,
   "metadata": {},
   "outputs": [],
   "source": [
    "_data = np.array(wine)\n",
    "X = _data[:,:-1]\n",
    "y = _data[:,-1]\n",
    "y = y.astype('int')\n",
    "\n",
    "X_train, X_test, y_train, y_test = train_test_split(X, y, test_size=0.3, random_state=1)"
   ]
  },
  {
   "cell_type": "markdown",
   "metadata": {},
   "source": [
    "### Random Forest"
   ]
  },
  {
   "cell_type": "code",
   "execution_count": 100,
   "metadata": {},
   "outputs": [
    {
     "name": "stdout",
     "output_type": "stream",
     "text": [
      "Valid Accuracy iter:0 = 0.8108108108108109\n",
      "Valid Accuracy iter:1 = 0.7767857142857143\n",
      "Valid Accuracy iter:2 = 0.7410714285714286\n",
      "Valid Accuracy iter:3 = 0.8035714285714286\n",
      "Valid Accuracy iter:4 = 0.8035714285714286\n",
      "Valid Accuracy iter:5 = 0.875\n",
      "Valid Accuracy iter:6 = 0.8035714285714286\n",
      "Valid Accuracy iter:7 = 0.7678571428571429\n",
      "Valid Accuracy iter:8 = 0.7767857142857143\n",
      "Valid Accuracy iter:9 = 0.8035714285714286\n",
      "Average Valid Accuracy: = 0.7962596525096526\n",
      "Train Accuracy 1.0\n",
      "Test Accuracy 0.8145833333333333\n",
      "[[190  40]\n",
      " [ 49 201]]\n",
      "(array([0.79497908, 0.8340249 ]), array([0.82608696, 0.804     ]), array([0.81023454, 0.81873727]), array([230, 250]))\n"
     ]
    },
    {
     "data": {
      "image/png": "[encoded data removed]",
      "text/plain": [
       "<Figure size 432x288 with 1 Axes>"
      ]
     },
     "metadata": {},
     "output_type": "display_data"
    }
   ],
   "source": [
    "clf = RandomForestClassifier(n_estimators=100, max_depth=20, random_state=0)\n",
    "clf = kcross(clf,X_train,y_train,10)\n",
    "\n",
    "from matplotlib import pyplot as plt\n",
    "from sklearn.metrics import accuracy_score, precision_recall_fscore_support, roc_curve, roc_auc_score\n",
    "\n",
    "print('Train Accuracy ' + str(accuracy_score(clf.predict(X_train),y_train)))\n",
    "print('Test Accuracy ' + str(accuracy_score(clf.predict(X_test),y_test)))\n",
    "\n",
    "print(confusion_matrix(y_test,clf.predict(X_test)))\n",
    "print(precision_recall_fscore_support(y_test,clf.predict(X_test)))\n",
    "fpr,tpr,th = roc_curve(y_test,clf.predict_proba(X_test)[:,1])\n",
    "plt.plot(fpr,tpr)\n",
    "plt.show()\n"
   ]
  },
  {
   "cell_type": "markdown",
   "metadata": {},
   "source": [
    "### Logistic Regression"
   ]
  },
  {
   "cell_type": "code",
   "execution_count": 102,
   "metadata": {},
   "outputs": [
    {
     "name": "stdout",
     "output_type": "stream",
     "text": [
      "Valid Accuracy iter:0 = 0.6486486486486487\n",
      "Valid Accuracy iter:1 = 0.4732142857142857\n",
      "Valid Accuracy iter:2 = 0.5178571428571429\n",
      "Valid Accuracy iter:3 = 0.5625\n",
      "Valid Accuracy iter:4 = 0.5089285714285714\n",
      "Valid Accuracy iter:5 = 0.6517857142857143\n",
      "Valid Accuracy iter:6 = 0.5714285714285714\n",
      "Valid Accuracy iter:7 = 0.5\n",
      "Valid Accuracy iter:8 = 0.5267857142857143\n",
      "Valid Accuracy iter:9 = 0.5178571428571429\n",
      "Average Valid Accuracy: = 0.5479005791505791\n",
      "Train Accuracy 0.550491510277033\n",
      "Test Accuracy 0.5416666666666666\n",
      "[[ 11 219]\n",
      " [  1 249]]\n",
      "(array([0.91666667, 0.53205128]), array([0.04782609, 0.996     ]), array([0.09090909, 0.69359331]), array([230, 250]))\n",
      "0.5219130434782608\n"
     ]
    },
    {
     "data": {
      "image/png": "[encoded data removed]",
      "text/plain": [
       "<Figure size 432x288 with 1 Axes>"
      ]
     },
     "metadata": {},
     "output_type": "display_data"
    }
   ],
   "source": [
    "clf = LogisticRegression(random_state=0, solver='lbfgs',multi_class='multinomial', max_iter = 1000)\n",
    "\n",
    "clf = kcross(clf,X_train,y_train,10)\n",
    "\n",
    "from matplotlib import pyplot as plt\n",
    "from sklearn.metrics import accuracy_score, precision_recall_fscore_support, roc_curve, roc_auc_score\n",
    "\n",
    "print('Train Accuracy ' + str(accuracy_score(clf.predict(X_train),y_train)))\n",
    "print('Test Accuracy ' + str(accuracy_score(clf.predict(X_test),y_test)))\n",
    "\n",
    "print(confusion_matrix(y_test,clf.predict(X_test)))\n",
    "print(precision_recall_fscore_support(y_test,clf.predict(X_test)))\n",
    "print(roc_auc_score(y_test,clf.predict(X_test)))\n",
    "fpr,tpr,th = roc_curve(y_test,clf.predict_proba(X_test)[:,1])\n",
    "plt.plot(fpr,tpr)\n",
    "plt.show()"
   ]
  },
  {
   "cell_type": "markdown",
   "metadata": {},
   "source": [
    "### K-NN"
   ]
  },
  {
   "cell_type": "code",
   "execution_count": 126,
   "metadata": {},
   "outputs": [
    {
     "name": "stdout",
     "output_type": "stream",
     "text": [
      "Valid Accuracy iter:0 = 0.7207207207207207\n",
      "Valid Accuracy iter:1 = 0.6607142857142857\n",
      "Valid Accuracy iter:2 = 0.6696428571428571\n",
      "Valid Accuracy iter:3 = 0.6517857142857143\n",
      "Valid Accuracy iter:4 = 0.7232142857142857\n",
      "Valid Accuracy iter:5 = 0.7767857142857143\n",
      "Valid Accuracy iter:6 = 0.6607142857142857\n",
      "Valid Accuracy iter:7 = 0.6607142857142857\n",
      "Valid Accuracy iter:8 = 0.6875\n",
      "Valid Accuracy iter:9 = 0.6964285714285714\n",
      "Average Valid Accuracy: = 0.690822072072072\n",
      "Train Accuracy 0.8123324396782842\n",
      "Test Accuracy 0.7125\n",
      "[[155  75]\n",
      " [ 63 187]]\n",
      "(array([0.71100917, 0.71374046]), array([0.67391304, 0.748     ]), array([0.69196429, 0.73046875]), array([230, 250]))\n",
      "0.7109565217391304\n",
      "[2.  1.  0.8 0.6 0.4 0.2 0. ]\n"
     ]
    },
    {
     "data": {
      "image/png": "[encoded data removed]",
      "text/plain": [
       "<Figure size 432x288 with 1 Axes>"
      ]
     },
     "metadata": {},
     "output_type": "display_data"
    }
   ],
   "source": [
    "from sklearn.neighbors import KNeighborsClassifier\n",
    "\n",
    "clf = KNeighborsClassifier(n_neighbors=5)\n",
    "\n",
    "clf = kcross(clf,X_train,y_train,10)\n",
    "\n",
    "from matplotlib import pyplot as plt\n",
    "from sklearn.metrics import accuracy_score, precision_recall_fscore_support, roc_curve, roc_auc_score\n",
    "\n",
    "print('Train Accuracy ' + str(accuracy_score(clf.predict(X_train),y_train)))\n",
    "print('Test Accuracy ' + str(accuracy_score(clf.predict(X_test),y_test)))\n",
    "\n",
    "print(confusion_matrix(y_test,clf.predict(X_test)))\n",
    "print(precision_recall_fscore_support(y_test,clf.predict(X_test)))\n",
    "print(roc_auc_score(y_test,clf.predict(X_test)))\n",
    "fpr,tpr,th = roc_curve(y_test,clf.predict_proba(X_test)[:,1])\n",
    "print(th)\n",
    "plt.plot(fpr,tpr)\n",
    "plt.show()"
   ]
  },
  {
   "cell_type": "markdown",
   "metadata": {},
   "source": [
    "### AdaBoost Classifier"
   ]
  },
  {
   "cell_type": "code",
   "execution_count": 101,
   "metadata": {},
   "outputs": [
    {
     "name": "stdout",
     "output_type": "stream",
     "text": [
      "Valid Accuracy iter:0 = 0.7927927927927928\n",
      "Valid Accuracy iter:1 = 0.6875\n",
      "Valid Accuracy iter:2 = 0.6875\n",
      "Valid Accuracy iter:3 = 0.7232142857142857\n",
      "Valid Accuracy iter:4 = 0.7678571428571429\n",
      "Valid Accuracy iter:5 = 0.7857142857142857\n",
      "Valid Accuracy iter:6 = 0.7857142857142857\n",
      "Valid Accuracy iter:7 = 0.6607142857142857\n",
      "Valid Accuracy iter:8 = 0.7678571428571429\n",
      "Valid Accuracy iter:9 = 0.7053571428571429\n",
      "Average Valid Accuracy: = 0.7364221364221365\n",
      "[0.85127665 0.85810188 0.85257338]\n",
      "Train Accuracy 0.7953529937444147\n",
      "Test Accuracy 0.7479166666666667\n",
      "[[165  65]\n",
      " [ 56 194]]\n",
      "(array([0.74660633, 0.74903475]), array([0.7173913, 0.776    ]), array([0.73170732, 0.76227898]), array([230, 250]))\n",
      "0.7466956521739131\n"
     ]
    },
    {
     "data": {
      "image/png": "[encoded data removed]",
      "text/plain": [
       "<Figure size 432x288 with 1 Axes>"
      ]
     },
     "metadata": {},
     "output_type": "display_data"
    }
   ],
   "source": [
    "from sklearn.ensemble import AdaBoostClassifier\n",
    "from sklearn.model_selection import cross_validate, cross_val_predict\n",
    "clf = AdaBoostClassifier()\n",
    "clf = kcross(clf,X_train,y_train,10)\n",
    "#cv_results = cross_validate(clf, X_train, y_train, cv=3,return_train_score=False)\n",
    "print(cv_results['test_score'])\n",
    "from matplotlib import pyplot as plt\n",
    "from sklearn.metrics import accuracy_score, precision_recall_fscore_support, roc_curve, roc_auc_score\n",
    "\n",
    "print('Train Accuracy ' + str(accuracy_score(clf.predict(X_train),y_train)))\n",
    "print('Test Accuracy ' + str(accuracy_score(clf.predict(X_test),y_test)))\n",
    "\n",
    "print(confusion_matrix(y_test,clf.predict(X_test)))\n",
    "print(precision_recall_fscore_support(y_test,clf.predict(X_test)))\n",
    "print(roc_auc_score(y_test,clf.predict(X_test)))\n",
    "fpr,tpr,th = roc_curve(y_test,clf.predict_proba(X_test)[:,1])\n",
    "plt.plot(fpr,tpr)\n",
    "plt.show()"
   ]
  }
 ],
 "metadata": {
  "kernelspec": {
   "display_name": "Python 3",
   "language": "python",
   "name": "python3"
  },
  "language_info": {
   "codemirror_mode": {
    "name": "ipython",
    "version": 3
   },
   "file_extension": ".py",
   "mimetype": "text/x-python",
   "name": "python",
   "nbconvert_exporter": "python",
   "pygments_lexer": "ipython3",
   "version": "3.6.5"
  }
 },
 "nbformat": 4,
 "nbformat_minor": 2
}
